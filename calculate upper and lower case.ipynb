{
 "cells": [
  {
   "cell_type": "markdown",
   "id": "80df3fca",
   "metadata": {},
   "source": [
    "## calculate upper & lower case"
   ]
  },
  {
   "cell_type": "code",
   "execution_count": 4,
   "id": "30fd58f7",
   "metadata": {},
   "outputs": [
    {
     "name": "stdout",
     "output_type": "stream",
     "text": [
      "The quick Brow Fox\n",
      "number of upper case characters : 3\n",
      "number of upper case characters : 12\n"
     ]
    }
   ],
   "source": [
    "def string():\n",
    "    f=input()\n",
    "    u=0\n",
    "    v=0\n",
    "    for i in f:\n",
    "        if i.isupper():\n",
    "            u=u+1\n",
    "        if i.islower():\n",
    "            v=v+1\n",
    "    print(\"number of upper case characters :\",u)\n",
    "    print(\"number of upper case characters :\",v)\n",
    "string()    \n"
   ]
  },
  {
   "cell_type": "code",
   "execution_count": null,
   "id": "24cafe9d",
   "metadata": {},
   "outputs": [],
   "source": []
  }
 ],
 "metadata": {
  "kernelspec": {
   "display_name": "Python 3 (ipykernel)",
   "language": "python",
   "name": "python3"
  },
  "language_info": {
   "codemirror_mode": {
    "name": "ipython",
    "version": 3
   },
   "file_extension": ".py",
   "mimetype": "text/x-python",
   "name": "python",
   "nbconvert_exporter": "python",
   "pygments_lexer": "ipython3",
   "version": "3.10.1"
  }
 },
 "nbformat": 4,
 "nbformat_minor": 5
}
